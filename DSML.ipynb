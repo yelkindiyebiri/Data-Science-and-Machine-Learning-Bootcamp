{
 "cells": [
  {
   "cell_type": "code",
   "execution_count": 10,
   "metadata": {},
   "outputs": [],
   "source": [
    "import numpy as np\n",
    "import scipy.stats as st\n",
    "from scipy.stats import norm\n",
    "import seaborn as sns\n",
    "from scipy import stats\n",
    "import scipy\n",
    "import matplotlib.pyplot as plt\n",
    "import pandas as pd"
   ]
  },
  {
   "cell_type": "code",
   "execution_count": 11,
   "metadata": {},
   "outputs": [
    {
     "data": {
      "text/html": [
       "<div>\n",
       "<style scoped>\n",
       "    .dataframe tbody tr th:only-of-type {\n",
       "        vertical-align: middle;\n",
       "    }\n",
       "\n",
       "    .dataframe tbody tr th {\n",
       "        vertical-align: top;\n",
       "    }\n",
       "\n",
       "    .dataframe thead th {\n",
       "        text-align: right;\n",
       "    }\n",
       "</style>\n",
       "<table border=\"1\" class=\"dataframe\">\n",
       "  <thead>\n",
       "    <tr style=\"text-align: right;\">\n",
       "      <th></th>\n",
       "      <th>bad</th>\n",
       "      <th>loan</th>\n",
       "      <th>mortdue</th>\n",
       "      <th>value</th>\n",
       "      <th>reason</th>\n",
       "      <th>job</th>\n",
       "      <th>yoj</th>\n",
       "      <th>derog</th>\n",
       "      <th>delinq</th>\n",
       "      <th>clage</th>\n",
       "      <th>ninq</th>\n",
       "      <th>clno</th>\n",
       "      <th>debtinc</th>\n",
       "    </tr>\n",
       "  </thead>\n",
       "  <tbody>\n",
       "    <tr>\n",
       "      <th>0</th>\n",
       "      <td>0</td>\n",
       "      <td>81200</td>\n",
       "      <td>18834.0</td>\n",
       "      <td>108355.0</td>\n",
       "      <td>HomeImp</td>\n",
       "      <td>NaN</td>\n",
       "      <td>28.0</td>\n",
       "      <td>0.0</td>\n",
       "      <td>0.0</td>\n",
       "      <td>139.14</td>\n",
       "      <td>0.0</td>\n",
       "      <td>14.0</td>\n",
       "      <td>34.042</td>\n",
       "    </tr>\n",
       "    <tr>\n",
       "      <th>1</th>\n",
       "      <td>0</td>\n",
       "      <td>12600</td>\n",
       "      <td>103960.0</td>\n",
       "      <td>127384.0</td>\n",
       "      <td>DebtCon</td>\n",
       "      <td>NaN</td>\n",
       "      <td>2.0</td>\n",
       "      <td>0.0</td>\n",
       "      <td>0.0</td>\n",
       "      <td>129.02</td>\n",
       "      <td>0.0</td>\n",
       "      <td>25.0</td>\n",
       "      <td>34.479</td>\n",
       "    </tr>\n",
       "    <tr>\n",
       "      <th>2</th>\n",
       "      <td>0</td>\n",
       "      <td>18000</td>\n",
       "      <td>46865.0</td>\n",
       "      <td>61266.0</td>\n",
       "      <td>DebtCon</td>\n",
       "      <td>NaN</td>\n",
       "      <td>5.0</td>\n",
       "      <td>0.0</td>\n",
       "      <td>0.0</td>\n",
       "      <td>102.59</td>\n",
       "      <td>2.0</td>\n",
       "      <td>9.0</td>\n",
       "      <td>26.354</td>\n",
       "    </tr>\n",
       "    <tr>\n",
       "      <th>3</th>\n",
       "      <td>0</td>\n",
       "      <td>10300</td>\n",
       "      <td>57676.0</td>\n",
       "      <td>71027.0</td>\n",
       "      <td>DebtCon</td>\n",
       "      <td>NaN</td>\n",
       "      <td>19.0</td>\n",
       "      <td>0.0</td>\n",
       "      <td>0.0</td>\n",
       "      <td>157.52</td>\n",
       "      <td>1.0</td>\n",
       "      <td>11.0</td>\n",
       "      <td>33.992</td>\n",
       "    </tr>\n",
       "    <tr>\n",
       "      <th>4</th>\n",
       "      <td>0</td>\n",
       "      <td>9400</td>\n",
       "      <td>56508.0</td>\n",
       "      <td>78358.0</td>\n",
       "      <td>DebtCon</td>\n",
       "      <td>NaN</td>\n",
       "      <td>17.0</td>\n",
       "      <td>0.0</td>\n",
       "      <td>0.0</td>\n",
       "      <td>141.93</td>\n",
       "      <td>0.0</td>\n",
       "      <td>11.0</td>\n",
       "      <td>32.327</td>\n",
       "    </tr>\n",
       "  </tbody>\n",
       "</table>\n",
       "</div>"
      ],
      "text/plain": [
       "   bad   loan   mortdue     value   reason  job   yoj  derog  delinq   clage  \\\n",
       "0    0  81200   18834.0  108355.0  HomeImp  NaN  28.0    0.0     0.0  139.14   \n",
       "1    0  12600  103960.0  127384.0  DebtCon  NaN   2.0    0.0     0.0  129.02   \n",
       "2    0  18000   46865.0   61266.0  DebtCon  NaN   5.0    0.0     0.0  102.59   \n",
       "3    0  10300   57676.0   71027.0  DebtCon  NaN  19.0    0.0     0.0  157.52   \n",
       "4    0   9400   56508.0   78358.0  DebtCon  NaN  17.0    0.0     0.0  141.93   \n",
       "\n",
       "   ninq  clno  debtinc  \n",
       "0   0.0  14.0   34.042  \n",
       "1   0.0  25.0   34.479  \n",
       "2   2.0   9.0   26.354  \n",
       "3   1.0  11.0   33.992  \n",
       "4   0.0  11.0   32.327  "
      ]
     },
     "execution_count": 11,
     "metadata": {},
     "output_type": "execute_result"
    }
   ],
   "source": [
    "data = pd.read_csv(\"hmelq.csv\")\n",
    "data.head()"
   ]
  },
  {
   "cell_type": "code",
   "execution_count": 12,
   "metadata": {
    "scrolled": true
   },
   "outputs": [
    {
     "name": "stdout",
     "output_type": "stream",
     "text": [
      "<class 'pandas.core.frame.DataFrame'>\n",
      "RangeIndex: 3576 entries, 0 to 3575\n",
      "Data columns (total 13 columns):\n",
      "bad        3576 non-null int64\n",
      "loan       3576 non-null int64\n",
      "mortdue    3262 non-null float64\n",
      "value      3512 non-null float64\n",
      "reason     3429 non-null object\n",
      "job        3409 non-null object\n",
      "yoj        3264 non-null float64\n",
      "derog      3149 non-null float64\n",
      "delinq     3225 non-null float64\n",
      "clage      3397 non-null float64\n",
      "ninq       3273 non-null float64\n",
      "clno       3443 non-null float64\n",
      "debtinc    2809 non-null float64\n",
      "dtypes: float64(9), int64(2), object(2)\n",
      "memory usage: 363.3+ KB\n"
     ]
    }
   ],
   "source": [
    "data.info()"
   ]
  },
  {
   "cell_type": "code",
   "execution_count": 13,
   "metadata": {},
   "outputs": [
    {
     "data": {
      "text/html": [
       "<div>\n",
       "<style scoped>\n",
       "    .dataframe tbody tr th:only-of-type {\n",
       "        vertical-align: middle;\n",
       "    }\n",
       "\n",
       "    .dataframe tbody tr th {\n",
       "        vertical-align: top;\n",
       "    }\n",
       "\n",
       "    .dataframe thead th {\n",
       "        text-align: right;\n",
       "    }\n",
       "</style>\n",
       "<table border=\"1\" class=\"dataframe\">\n",
       "  <thead>\n",
       "    <tr style=\"text-align: right;\">\n",
       "      <th></th>\n",
       "      <th>bad</th>\n",
       "      <th>loan</th>\n",
       "      <th>mortdue</th>\n",
       "      <th>value</th>\n",
       "      <th>reason</th>\n",
       "      <th>job</th>\n",
       "      <th>yoj</th>\n",
       "      <th>derog</th>\n",
       "      <th>delinq</th>\n",
       "      <th>clage</th>\n",
       "      <th>ninq</th>\n",
       "      <th>clno</th>\n",
       "      <th>debtinc</th>\n",
       "    </tr>\n",
       "  </thead>\n",
       "  <tbody>\n",
       "    <tr>\n",
       "      <th>153</th>\n",
       "      <td>0</td>\n",
       "      <td>18200</td>\n",
       "      <td>94727.0</td>\n",
       "      <td>136877.0</td>\n",
       "      <td>DebtCon</td>\n",
       "      <td>Mgr</td>\n",
       "      <td>15.0</td>\n",
       "      <td>0.0</td>\n",
       "      <td>0.0</td>\n",
       "      <td>168.96</td>\n",
       "      <td>2.0</td>\n",
       "      <td>26.0</td>\n",
       "      <td>36.056</td>\n",
       "    </tr>\n",
       "    <tr>\n",
       "      <th>154</th>\n",
       "      <td>0</td>\n",
       "      <td>21700</td>\n",
       "      <td>79240.0</td>\n",
       "      <td>96784.0</td>\n",
       "      <td>DebtCon</td>\n",
       "      <td>Mgr</td>\n",
       "      <td>5.0</td>\n",
       "      <td>0.0</td>\n",
       "      <td>0.0</td>\n",
       "      <td>64.51</td>\n",
       "      <td>6.0</td>\n",
       "      <td>24.0</td>\n",
       "      <td>38.079</td>\n",
       "    </tr>\n",
       "    <tr>\n",
       "      <th>155</th>\n",
       "      <td>0</td>\n",
       "      <td>34100</td>\n",
       "      <td>241931.0</td>\n",
       "      <td>36486.0</td>\n",
       "      <td>DebtCon</td>\n",
       "      <td>Mgr</td>\n",
       "      <td>1.0</td>\n",
       "      <td>0.0</td>\n",
       "      <td>2.0</td>\n",
       "      <td>196.01</td>\n",
       "      <td>3.0</td>\n",
       "      <td>50.0</td>\n",
       "      <td>42.459</td>\n",
       "    </tr>\n",
       "    <tr>\n",
       "      <th>156</th>\n",
       "      <td>0</td>\n",
       "      <td>8400</td>\n",
       "      <td>62989.0</td>\n",
       "      <td>76718.0</td>\n",
       "      <td>HomeImp</td>\n",
       "      <td>Mgr</td>\n",
       "      <td>3.0</td>\n",
       "      <td>0.0</td>\n",
       "      <td>2.0</td>\n",
       "      <td>131.47</td>\n",
       "      <td>0.0</td>\n",
       "      <td>22.0</td>\n",
       "      <td>29.200</td>\n",
       "    </tr>\n",
       "    <tr>\n",
       "      <th>157</th>\n",
       "      <td>0</td>\n",
       "      <td>17400</td>\n",
       "      <td>25859.0</td>\n",
       "      <td>43684.0</td>\n",
       "      <td>DebtCon</td>\n",
       "      <td>Mgr</td>\n",
       "      <td>16.0</td>\n",
       "      <td>1.0</td>\n",
       "      <td>0.0</td>\n",
       "      <td>95.36</td>\n",
       "      <td>1.0</td>\n",
       "      <td>17.0</td>\n",
       "      <td>27.108</td>\n",
       "    </tr>\n",
       "  </tbody>\n",
       "</table>\n",
       "</div>"
      ],
      "text/plain": [
       "     bad   loan   mortdue     value   reason  job   yoj  derog  delinq  \\\n",
       "153    0  18200   94727.0  136877.0  DebtCon  Mgr  15.0    0.0     0.0   \n",
       "154    0  21700   79240.0   96784.0  DebtCon  Mgr   5.0    0.0     0.0   \n",
       "155    0  34100  241931.0   36486.0  DebtCon  Mgr   1.0    0.0     2.0   \n",
       "156    0   8400   62989.0   76718.0  HomeImp  Mgr   3.0    0.0     2.0   \n",
       "157    0  17400   25859.0   43684.0  DebtCon  Mgr  16.0    1.0     0.0   \n",
       "\n",
       "      clage  ninq  clno  debtinc  \n",
       "153  168.96   2.0  26.0   36.056  \n",
       "154   64.51   6.0  24.0   38.079  \n",
       "155  196.01   3.0  50.0   42.459  \n",
       "156  131.47   0.0  22.0   29.200  \n",
       "157   95.36   1.0  17.0   27.108  "
      ]
     },
     "execution_count": 13,
     "metadata": {},
     "output_type": "execute_result"
    }
   ],
   "source": [
    "data = data.dropna() #verideki nan değerlerini atıyoruz.\n",
    "data.head()"
   ]
  },
  {
   "cell_type": "code",
   "execution_count": 38,
   "metadata": {},
   "outputs": [
    {
     "data": {
      "text/html": [
       "<div>\n",
       "<style scoped>\n",
       "    .dataframe tbody tr th:only-of-type {\n",
       "        vertical-align: middle;\n",
       "    }\n",
       "\n",
       "    .dataframe tbody tr th {\n",
       "        vertical-align: top;\n",
       "    }\n",
       "\n",
       "    .dataframe thead th {\n",
       "        text-align: right;\n",
       "    }\n",
       "</style>\n",
       "<table border=\"1\" class=\"dataframe\">\n",
       "  <thead>\n",
       "    <tr style=\"text-align: right;\">\n",
       "      <th>col_0</th>\n",
       "      <th>Count</th>\n",
       "    </tr>\n",
       "    <tr>\n",
       "      <th>bad</th>\n",
       "      <th></th>\n",
       "    </tr>\n",
       "  </thead>\n",
       "  <tbody>\n",
       "    <tr>\n",
       "      <th>0</th>\n",
       "      <td>1840</td>\n",
       "    </tr>\n",
       "    <tr>\n",
       "      <th>1</th>\n",
       "      <td>178</td>\n",
       "    </tr>\n",
       "  </tbody>\n",
       "</table>\n",
       "</div>"
      ],
      "text/plain": [
       "col_0  Count\n",
       "bad         \n",
       "0       1840\n",
       "1        178"
      ]
     },
     "execution_count": 38,
     "metadata": {},
     "output_type": "execute_result"
    }
   ],
   "source": [
    "tablo=pd.crosstab(index=data[\"bad\"],columns=\"Count\")\n",
    "tablo"
   ]
  },
  {
   "cell_type": "code",
   "execution_count": 14,
   "metadata": {},
   "outputs": [
    {
     "data": {
      "text/html": [
       "<div>\n",
       "<style scoped>\n",
       "    .dataframe tbody tr th:only-of-type {\n",
       "        vertical-align: middle;\n",
       "    }\n",
       "\n",
       "    .dataframe tbody tr th {\n",
       "        vertical-align: top;\n",
       "    }\n",
       "\n",
       "    .dataframe thead th {\n",
       "        text-align: right;\n",
       "    }\n",
       "</style>\n",
       "<table border=\"1\" class=\"dataframe\">\n",
       "  <thead>\n",
       "    <tr style=\"text-align: right;\">\n",
       "      <th>job</th>\n",
       "      <th>Mgr</th>\n",
       "      <th>Office</th>\n",
       "      <th>Other</th>\n",
       "      <th>ProfEx</th>\n",
       "      <th>Sales</th>\n",
       "      <th>Self</th>\n",
       "    </tr>\n",
       "  </thead>\n",
       "  <tbody>\n",
       "    <tr>\n",
       "      <th>Credit</th>\n",
       "      <td>242</td>\n",
       "      <td>326</td>\n",
       "      <td>694</td>\n",
       "      <td>504</td>\n",
       "      <td>23</td>\n",
       "      <td>51</td>\n",
       "    </tr>\n",
       "    <tr>\n",
       "      <th>non-credit</th>\n",
       "      <td>27</td>\n",
       "      <td>22</td>\n",
       "      <td>80</td>\n",
       "      <td>35</td>\n",
       "      <td>7</td>\n",
       "      <td>7</td>\n",
       "    </tr>\n",
       "  </tbody>\n",
       "</table>\n",
       "</div>"
      ],
      "text/plain": [
       "job         Mgr  Office  Other  ProfEx  Sales  Self\n",
       "Credit      242     326    694     504     23    51\n",
       "non-credit   27      22     80      35      7     7"
      ]
     },
     "execution_count": 14,
     "metadata": {},
     "output_type": "execute_result"
    }
   ],
   "source": [
    "bad_loan = pd.crosstab(index=data['bad'], columns = data['job'] ) \n",
    "\n",
    "bad_loan.index = ['Credit','non-credit']\n",
    "bad_loan"
   ]
  },
  {
   "cell_type": "code",
   "execution_count": 15,
   "metadata": {},
   "outputs": [
    {
     "data": {
      "text/html": [
       "<div>\n",
       "<style scoped>\n",
       "    .dataframe tbody tr th:only-of-type {\n",
       "        vertical-align: middle;\n",
       "    }\n",
       "\n",
       "    .dataframe tbody tr th {\n",
       "        vertical-align: top;\n",
       "    }\n",
       "\n",
       "    .dataframe thead th {\n",
       "        text-align: right;\n",
       "    }\n",
       "</style>\n",
       "<table border=\"1\" class=\"dataframe\">\n",
       "  <thead>\n",
       "    <tr style=\"text-align: right;\">\n",
       "      <th>reason</th>\n",
       "      <th>DebtCon</th>\n",
       "      <th>HomeImp</th>\n",
       "    </tr>\n",
       "  </thead>\n",
       "  <tbody>\n",
       "    <tr>\n",
       "      <th>Credit</th>\n",
       "      <td>1304</td>\n",
       "      <td>536</td>\n",
       "    </tr>\n",
       "    <tr>\n",
       "      <th>non-credit</th>\n",
       "      <td>124</td>\n",
       "      <td>54</td>\n",
       "    </tr>\n",
       "  </tbody>\n",
       "</table>\n",
       "</div>"
      ],
      "text/plain": [
       "reason      DebtCon  HomeImp\n",
       "Credit         1304      536\n",
       "non-credit      124       54"
      ]
     },
     "execution_count": 15,
     "metadata": {},
     "output_type": "execute_result"
    }
   ],
   "source": [
    "bad_loan = pd.crosstab(index=data['bad'], columns = data['reason'] )\n",
    "\n",
    "bad_loan.index = ['Credit','non-credit']\n",
    "bad_loan"
   ]
  },
  {
   "cell_type": "code",
   "execution_count": 40,
   "metadata": {},
   "outputs": [
    {
     "data": {
      "text/plain": [
       "<matplotlib.axes._subplots.AxesSubplot at 0x20a04a6f2e8>"
      ]
     },
     "execution_count": 40,
     "metadata": {},
     "output_type": "execute_result"
    },
    {
     "data": {
      "image/png": "[encoded data removed]",
      "text/plain": [
       "<Figure size 576x576 with 1 Axes>"
      ]
     },
     "metadata": {
      "needs_background": "light"
     },
     "output_type": "display_data"
    }
   ],
   "source": [
    "data.boxplot(column= \"loan\", \n",
    "             by= \"bad\",\n",
    "            figsize=(8,8))"
   ]
  },
  {
   "cell_type": "code",
   "execution_count": 41,
   "metadata": {},
   "outputs": [
    {
     "data": {
      "text/plain": [
       "<matplotlib.axes._subplots.AxesSubplot at 0x20a067cf908>"
      ]
     },
     "execution_count": 41,
     "metadata": {},
     "output_type": "execute_result"
    },
    {
     "data": {
      "image/png": "[encoded data removed]",
      "text/plain": [
       "<Figure size 576x576 with 1 Axes>"
      ]
     },
     "metadata": {
      "needs_background": "light"
     },
     "output_type": "display_data"
    }
   ],
   "source": [
    "data.boxplot(column= \"clage\", \n",
    "             by= \"bad\",\n",
    "            figsize=(8,8))"
   ]
  },
  {
   "cell_type": "code",
   "execution_count": 42,
   "metadata": {},
   "outputs": [
    {
     "data": {
      "text/plain": [
       "<matplotlib.axes._subplots.AxesSubplot at 0x20a068027b8>"
      ]
     },
     "execution_count": 42,
     "metadata": {},
     "output_type": "execute_result"
    },
    {
     "data": {
      "image/png": "[encoded data removed]",
      "text/plain": [
       "<Figure size 576x576 with 1 Axes>"
      ]
     },
     "metadata": {
      "needs_background": "light"
     },
     "output_type": "display_data"
    }
   ],
   "source": [
    "data.boxplot(column= \"mortdue\", \n",
    "             by= \"bad\",\n",
    "            figsize=(8,8))"
   ]
  },
  {
   "cell_type": "code",
   "execution_count": 43,
   "metadata": {},
   "outputs": [
    {
     "data": {
      "text/plain": [
       "<matplotlib.axes._subplots.AxesSubplot at 0x20a07e004a8>"
      ]
     },
     "execution_count": 43,
     "metadata": {},
     "output_type": "execute_result"
    },
    {
     "data": {
      "image/png": "[encoded data removed]",
      "text/plain": [
       "<Figure size 576x576 with 1 Axes>"
      ]
     },
     "metadata": {
      "needs_background": "light"
     },
     "output_type": "display_data"
    }
   ],
   "source": [
    "data.boxplot(column= \"value\", \n",
    "             by= \"bad\",\n",
    "            figsize=(8,8))"
   ]
  },
  {
   "cell_type": "code",
   "execution_count": 44,
   "metadata": {},
   "outputs": [
    {
     "data": {
      "text/plain": [
       "<matplotlib.axes._subplots.AxesSubplot at 0x20a0689e080>"
      ]
     },
     "execution_count": 44,
     "metadata": {},
     "output_type": "execute_result"
    },
    {
     "data": {
      "image/png": "[encoded data removed]",
      "text/plain": [
       "<Figure size 576x576 with 1 Axes>"
      ]
     },
     "metadata": {
      "needs_background": "light"
     },
     "output_type": "display_data"
    }
   ],
   "source": [
    "data.boxplot(column= \"yoj\", \n",
    "             by= \"bad\",\n",
    "            figsize=(8,8))"
   ]
  },
  {
   "cell_type": "code",
   "execution_count": 45,
   "metadata": {},
   "outputs": [
    {
     "data": {
      "text/plain": [
       "<matplotlib.axes._subplots.AxesSubplot at 0x20a0690dc18>"
      ]
     },
     "execution_count": 45,
     "metadata": {},
     "output_type": "execute_result"
    },
    {
     "data": {
      "image/png": "[encoded data removed]",
      "text/plain": [
       "<Figure size 576x576 with 1 Axes>"
      ]
     },
     "metadata": {
      "needs_background": "light"
     },
     "output_type": "display_data"
    }
   ],
   "source": [
    "data.boxplot(column= \"derog\", \n",
    "             by= \"bad\",\n",
    "            figsize=(8,8))"
   ]
  },
  {
   "cell_type": "code",
   "execution_count": 46,
   "metadata": {},
   "outputs": [
    {
     "data": {
      "text/plain": [
       "<matplotlib.axes._subplots.AxesSubplot at 0x20a0697e748>"
      ]
     },
     "execution_count": 46,
     "metadata": {},
     "output_type": "execute_result"
    },
    {
     "data": {
      "image/png": "[encoded data removed]",
      "text/plain": [
       "<Figure size 576x576 with 1 Axes>"
      ]
     },
     "metadata": {
      "needs_background": "light"
     },
     "output_type": "display_data"
    }
   ],
   "source": [
    "data.boxplot(column= \"delinq\", \n",
    "             by= \"bad\",\n",
    "            figsize=(8,8))"
   ]
  },
  {
   "cell_type": "code",
   "execution_count": 47,
   "metadata": {},
   "outputs": [
    {
     "data": {
      "text/plain": [
       "<matplotlib.axes._subplots.AxesSubplot at 0x20a069d05c0>"
      ]
     },
     "execution_count": 47,
     "metadata": {},
     "output_type": "execute_result"
    },
    {
     "data": {
      "image/png": "[encoded data removed]",
      "text/plain": [
       "<Figure size 576x576 with 1 Axes>"
      ]
     },
     "metadata": {
      "needs_background": "light"
     },
     "output_type": "display_data"
    }
   ],
   "source": [
    "data.boxplot(column= \"ninq\", \n",
    "             by= \"bad\",\n",
    "            figsize=(8,8))"
   ]
  },
  {
   "cell_type": "code",
   "execution_count": 48,
   "metadata": {},
   "outputs": [
    {
     "data": {
      "text/plain": [
       "<matplotlib.axes._subplots.AxesSubplot at 0x20a07fadba8>"
      ]
     },
     "execution_count": 48,
     "metadata": {},
     "output_type": "execute_result"
    },
    {
     "data": {
      "image/png": "[encoded data removed]",
      "text/plain": [
       "<Figure size 576x576 with 1 Axes>"
      ]
     },
     "metadata": {
      "needs_background": "light"
     },
     "output_type": "display_data"
    }
   ],
   "source": [
    "data.boxplot(column= \"clno\", \n",
    "             by= \"bad\",\n",
    "            figsize=(8,8))"
   ]
  },
  {
   "cell_type": "code",
   "execution_count": 49,
   "metadata": {},
   "outputs": [
    {
     "data": {
      "text/plain": [
       "<matplotlib.axes._subplots.AxesSubplot at 0x20a0801c080>"
      ]
     },
     "execution_count": 49,
     "metadata": {},
     "output_type": "execute_result"
    },
    {
     "data": {
      "image/png": "[encoded data removed]",
      "text/plain": [
       "<Figure size 576x576 with 1 Axes>"
      ]
     },
     "metadata": {
      "needs_background": "light"
     },
     "output_type": "display_data"
    }
   ],
   "source": [
    "data.boxplot(column= \"debtinc\", \n",
    "             by= \"bad\",\n",
    "            figsize=(8,8))"
   ]
  },
  {
   "cell_type": "code",
   "execution_count": 65,
   "metadata": {},
   "outputs": [
    {
     "name": "stdout",
     "output_type": "stream",
     "text": [
      "Statictics=0.862, p=0.000\n",
      "Orneklem Normal (Gaussian) dağılım gostermemektedir, (Reject)\n"
     ]
    }
   ],
   "source": [
    "from scipy.stats import shapiro\n",
    "\n",
    "stat,p=shapiro(data[\"mortdue\"])\n",
    "\n",
    "print('Statictics=%.3f, p=%.3f' %(stat,p))\n",
    "\n",
    "alpha=0.5\n",
    "if p >alpha:\n",
    "    print('Orneklem Normal (Gaussian) dağılımdan gelmektedir, (Fail to reject)')  \n",
    "else:\n",
    "    print('Orneklem Normal (Gaussian) dağılım gostermemektedir, (Reject)')"
   ]
  },
  {
   "cell_type": "code",
   "execution_count": 28,
   "metadata": {},
   "outputs": [
    {
     "name": "stdout",
     "output_type": "stream",
     "text": [
      "Statictics=0.836, p=0.000\n",
      "Orneklem Normal (Gaussian) dağılım gostermemektedir, (Reject)\n"
     ]
    }
   ],
   "source": [
    "from scipy.stats import shapiro\n",
    "\n",
    "stat,p=shapiro(data[\"loan\"])\n",
    "\n",
    "print('Statictics=%.3f, p=%.3f' %(stat,p))\n",
    "\n",
    "alpha=0.5\n",
    "if p >alpha:\n",
    "    print('Orneklem Normal (Gaussian) dağılımdan gelmektedir, (Fail to reject)')  \n",
    "else:\n",
    "    print('Orneklem Normal (Gaussian) dağılım gostermemektedir, (Reject)')"
   ]
  },
  {
   "cell_type": "code",
   "execution_count": 29,
   "metadata": {},
   "outputs": [
    {
     "name": "stdout",
     "output_type": "stream",
     "text": [
      "Statictics=0.844, p=0.000\n",
      "Orneklem Normal (Gaussian) dağılım gostermemektedir, (Reject)\n"
     ]
    }
   ],
   "source": [
    "from scipy.stats import shapiro\n",
    "\n",
    "stat,p=shapiro(data[\"value\"])\n",
    "\n",
    "print('Statictics=%.3f, p=%.3f' %(stat,p))\n",
    "\n",
    "alpha=0.5\n",
    "if p >alpha:\n",
    "    print('Orneklem Normal (Gaussian) dağılımdan gelmektedir, (Fail to reject)')  \n",
    "else:\n",
    "    print('Orneklem Normal (Gaussian) dağılım gostermemektedir, (Reject)')"
   ]
  },
  {
   "cell_type": "code",
   "execution_count": 30,
   "metadata": {},
   "outputs": [
    {
     "name": "stdout",
     "output_type": "stream",
     "text": [
      "Statictics=0.912, p=0.000\n",
      "Orneklem Normal (Gaussian) dağılım gostermemektedir, (Reject)\n"
     ]
    }
   ],
   "source": [
    "from scipy.stats import shapiro\n",
    "\n",
    "stat,p=shapiro(data[\"yoj\"])\n",
    "\n",
    "print('Statictics=%.3f, p=%.3f' %(stat,p))\n",
    "\n",
    "alpha=0.5\n",
    "if p >alpha:\n",
    "    print('Orneklem Normal (Gaussian) dağılımdan gelmektedir, (Fail to reject)')  \n",
    "else:\n",
    "    print('Orneklem Normal (Gaussian) dağılım gostermemektedir, (Reject)')"
   ]
  },
  {
   "cell_type": "code",
   "execution_count": 31,
   "metadata": {},
   "outputs": [
    {
     "name": "stdout",
     "output_type": "stream",
     "text": [
      "Statictics=0.277, p=0.000\n",
      "Orneklem Normal (Gaussian) dağılım gostermemektedir, (Reject)\n"
     ]
    }
   ],
   "source": [
    "from scipy.stats import shapiro\n",
    "\n",
    "stat,p=shapiro(data[\"derog\"])\n",
    "\n",
    "print('Statictics=%.3f, p=%.3f' %(stat,p))\n",
    "\n",
    "alpha=0.5\n",
    "if p >alpha:\n",
    "    print('Orneklem Normal (Gaussian) dağılımdan gelmektedir, (Fail to reject)')  \n",
    "else:\n",
    "    print('Orneklem Normal (Gaussian) dağılım gostermemektedir, (Reject)')"
   ]
  },
  {
   "cell_type": "code",
   "execution_count": 32,
   "metadata": {},
   "outputs": [
    {
     "name": "stdout",
     "output_type": "stream",
     "text": [
      "Statictics=0.380, p=0.000\n",
      "Orneklem Normal (Gaussian) dağılım gostermemektedir, (Reject)\n"
     ]
    }
   ],
   "source": [
    "from scipy.stats import shapiro\n",
    "\n",
    "stat,p=shapiro(data[\"delinq\"])\n",
    "\n",
    "print('Statictics=%.3f, p=%.3f' %(stat,p))\n",
    "\n",
    "alpha=0.5\n",
    "if p >alpha:\n",
    "    print('Orneklem Normal (Gaussian) dağılımdan gelmektedir, (Fail to reject)')  \n",
    "else:\n",
    "    print('Orneklem Normal (Gaussian) dağılım gostermemektedir, (Reject)')"
   ]
  },
  {
   "cell_type": "code",
   "execution_count": 33,
   "metadata": {},
   "outputs": [
    {
     "name": "stdout",
     "output_type": "stream",
     "text": [
      "Statictics=0.669, p=0.000\n",
      "Orneklem Normal (Gaussian) dağılım gostermemektedir, (Reject)\n"
     ]
    }
   ],
   "source": [
    "from scipy.stats import shapiro\n",
    "\n",
    "stat,p=shapiro(data[\"ninq\"])\n",
    "\n",
    "print('Statictics=%.3f, p=%.3f' %(stat,p))\n",
    "\n",
    "alpha=0.5\n",
    "if p >alpha:\n",
    "    print('Orneklem Normal (Gaussian) dağılımdan gelmektedir, (Fail to reject)')  \n",
    "else:\n",
    "    print('Orneklem Normal (Gaussian) dağılım gostermemektedir, (Reject)')"
   ]
  },
  {
   "cell_type": "code",
   "execution_count": 34,
   "metadata": {},
   "outputs": [
    {
     "name": "stdout",
     "output_type": "stream",
     "text": [
      "Statictics=0.964, p=0.000\n",
      "Orneklem Normal (Gaussian) dağılım gostermemektedir, (Reject)\n"
     ]
    }
   ],
   "source": [
    "from scipy.stats import shapiro\n",
    "\n",
    "stat,p=shapiro(data[\"clno\"])\n",
    "\n",
    "print('Statictics=%.3f, p=%.3f' %(stat,p))\n",
    "\n",
    "alpha=0.5\n",
    "if p >alpha:\n",
    "    print('Orneklem Normal (Gaussian) dağılımdan gelmektedir, (Fail to reject)')  \n",
    "else:\n",
    "    print('Orneklem Normal (Gaussian) dağılım gostermemektedir, (Reject)')"
   ]
  },
  {
   "cell_type": "code",
   "execution_count": 35,
   "metadata": {},
   "outputs": [
    {
     "name": "stdout",
     "output_type": "stream",
     "text": [
      "Statictics=0.824, p=0.000\n",
      "Orneklem Normal (Gaussian) dağılım gostermemektedir, (Reject)\n"
     ]
    }
   ],
   "source": [
    "from scipy.stats import shapiro\n",
    "\n",
    "stat,p=shapiro(data[\"debtinc\"])\n",
    "\n",
    "print('Statictics=%.3f, p=%.3f' %(stat,p))\n",
    "\n",
    "alpha=0.5\n",
    "if p >alpha:\n",
    "    print('Orneklem Normal (Gaussian) dağılımdan gelmektedir, (Fail to reject)')  \n",
    "else:\n",
    "    print('Orneklem Normal (Gaussian) dağılım gostermemektedir, (Reject)')"
   ]
  },
  {
   "cell_type": "code",
   "execution_count": 58,
   "metadata": {},
   "outputs": [
    {
     "data": {
      "text/plain": [
       "(0.8436811566352844, 1.0142738414629458e-40)"
      ]
     },
     "execution_count": 58,
     "metadata": {},
     "output_type": "execute_result"
    }
   ],
   "source": [
    "from scipy.stats import shapiro\n",
    "shapiro(data.value)"
   ]
  },
  {
   "cell_type": "code",
   "execution_count": 39,
   "metadata": {},
   "outputs": [
    {
     "data": {
      "text/plain": [
       "0       108355.0\n",
       "1       127384.0\n",
       "2        61266.0\n",
       "3        71027.0\n",
       "4        78358.0\n",
       "5        66978.0\n",
       "6       110481.0\n",
       "7        82054.0\n",
       "8       135146.0\n",
       "9        78275.0\n",
       "10      130216.0\n",
       "11       72664.0\n",
       "12       82768.0\n",
       "13      102997.0\n",
       "14      121216.0\n",
       "15      111287.0\n",
       "16       56206.0\n",
       "17       62674.0\n",
       "18       82242.0\n",
       "19      108280.0\n",
       "20      127421.0\n",
       "21       60679.0\n",
       "22       86313.0\n",
       "23       88242.0\n",
       "24       84943.0\n",
       "25       59853.0\n",
       "26       60826.0\n",
       "27      111304.0\n",
       "28      110114.0\n",
       "29       57680.0\n",
       "          ...   \n",
       "3546    305514.0\n",
       "3547    137727.0\n",
       "3548     86172.0\n",
       "3549     58760.0\n",
       "3550    123705.0\n",
       "3551     73077.0\n",
       "3552    125000.0\n",
       "3553     98314.0\n",
       "3554     95000.0\n",
       "3555    225000.0\n",
       "3556     63100.0\n",
       "3557     70438.0\n",
       "3558    215000.0\n",
       "3559    130000.0\n",
       "3560    215000.0\n",
       "3561    227168.0\n",
       "3562     91000.0\n",
       "3563     54600.0\n",
       "3564    194000.0\n",
       "3565     36600.0\n",
       "3566     38575.0\n",
       "3567    125000.0\n",
       "3568     42000.0\n",
       "3569    108620.0\n",
       "3570    216500.0\n",
       "3571     72000.0\n",
       "3572         NaN\n",
       "3573         NaN\n",
       "3574     25010.0\n",
       "3575     28000.0\n",
       "Name: value, Length: 3576, dtype: float64"
      ]
     },
     "execution_count": 39,
     "metadata": {},
     "output_type": "execute_result"
    }
   ],
   "source": [
    "a = data[\"value\"]\n",
    "a"
   ]
  },
  {
   "cell_type": "code",
   "execution_count": 63,
   "metadata": {},
   "outputs": [
    {
     "data": {
      "text/plain": [
       "array([0, 1], dtype=int64)"
      ]
     },
     "execution_count": 63,
     "metadata": {},
     "output_type": "execute_result"
    }
   ],
   "source": [
    "import pandas as pd\n",
    "###unique değerleri al iristen\n",
    "grps=pd.unique(data.bad.values) #iris içindeki türleri belirlemek için\n",
    "grps"
   ]
  },
  {
   "cell_type": "code",
   "execution_count": 64,
   "metadata": {},
   "outputs": [
    {
     "name": "stdout",
     "output_type": "stream",
     "text": [
      "0 (0.8254581689834595, 7.618018971455436e-41)\n",
      "1 (0.9042258858680725, 2.437214208228511e-09)\n"
     ]
    }
   ],
   "source": [
    "for name in grps:\n",
    "    print(name,shapiro(data[\"loan\"][data['bad']==name]))"
   ]
  },
  {
   "cell_type": "code",
   "execution_count": 58,
   "metadata": {},
   "outputs": [
    {
     "name": "stdout",
     "output_type": "stream",
     "text": [
      "0 (0.8254581689834595, 7.618018971455436e-41)\n",
      "1 (0.9042258858680725, 2.437214208228511e-09)\n",
      "0 (0.8761888742446899, 6.140487180178297e-36)\n",
      "1 (0.7530112862586975, 5.364428532155343e-16)\n",
      "0 (0.8567550182342529, 5.560680210281526e-38)\n",
      "1 (0.7347071170806885, 1.3988843091622356e-16)\n",
      "0 (0.9135879278182983, 3.7622141034931923e-31)\n",
      "1 (0.8765063881874084, 6.26317955831901e-11)\n",
      "0 (0.29917919635772705, 0.0)\n",
      "1 (0.47658318281173706, 1.05843499759195e-22)\n",
      "0 (0.39022672176361084, 0.0)\n",
      "1 (0.6200441122055054, 1.094538957462091e-19)\n",
      "0 (0.9341397285461426, 8.97556250532847e-28)\n",
      "1 (0.6705604195594788, 2.030652096406175e-18)\n",
      "0 (0.6654034852981567, 0.0)\n",
      "1 (0.7402528524398804, 2.086744280806386e-16)\n",
      "0 (0.9647266864776611, 8.786936083171943e-21)\n",
      "1 (0.9460427761077881, 2.8263050353416475e-06)\n",
      "0 (0.9527795314788818, 6.490351914414517e-24)\n",
      "1 (0.7584612965583801, 8.116476694267191e-16)\n"
     ]
    }
   ],
   "source": [
    "grps=pd.unique(data.bad.values)\n",
    "grps\n",
    "\n",
    "for name in grps:\n",
    "    print(name,shapiro(data['loan'][data['bad']==name])) \n",
    "\n",
    "for name in grps:\n",
    "    print(name,shapiro(data['mortdue'][data['bad']==name]))\n",
    "for name in grps:\n",
    "    print(name,shapiro(data['value'][data['bad']==name])) \n",
    "for name in grps:\n",
    "    print(name,shapiro(data['yoj'][data['bad']==name]))    \n",
    "for name in grps:\n",
    "    print(name,shapiro(data['derog'][data['bad']==name]))     \n",
    "for name in grps:\n",
    "    print(name,shapiro(data['delinq'][data['bad']==name]))  \n",
    "for name in grps:\n",
    "    print(name,shapiro(data['clage'][data['bad']==name]))  \n",
    "for name in grps:\n",
    "    print(name,shapiro(data['ninq'][data['bad']==name]))   \n",
    "for name in grps:\n",
    "    print(name,shapiro(data['clno'][data['bad']==name]))  \n",
    "for name in grps:\n",
    "    print(name,shapiro(data['debtinc'][data['bad']==name]))"
   ]
  },
  {
   "cell_type": "code",
   "execution_count": 53,
   "metadata": {},
   "outputs": [
    {
     "name": "stdout",
     "output_type": "stream",
     "text": [
      "0 (0.6654034852981567, 0.0)\n",
      "1 (0.7402528524398804, 2.086744280806386e-16)\n"
     ]
    }
   ],
   "source": [
    "grps=pd.unique(data.bad.values)\n",
    "grps\n",
    "\n",
    "for name in grps:\n",
    "    print(name,shapiro(data['ninq'][data['bad']==name]))"
   ]
  },
  {
   "cell_type": "code",
   "execution_count": 59,
   "metadata": {},
   "outputs": [
    {
     "name": "stdout",
     "output_type": "stream",
     "text": [
      "2.3947745891982195 0.12189825252399986\n",
      "Orneklem Sabit varyansa(constant variance) sahiptir, ((Fail to reject H0))\n"
     ]
    }
   ],
   "source": [
    "from scipy.stats import levene\n",
    "stat,p = levene(data['loan'][data['bad'] == 0], data['loan'][data['bad'] == 1]) \n",
    "print(stat,p)#equal variance test\n",
    "alpha=0.05\n",
    "if p >alpha:\n",
    "    print('Orneklem Sabit varyansa(constant variance) sahiptir, ((Fail to reject H0))')  \n",
    "else:\n",
    "    print('Orneklem Sabit varyansa(constant variance) sahip değildir, ((Reject H0))')"
   ]
  },
  {
   "cell_type": "code",
   "execution_count": 60,
   "metadata": {},
   "outputs": [
    {
     "name": "stdout",
     "output_type": "stream",
     "text": [
      "Statistics =2.395, p=0.240\n",
      "Bu veri türleri ayırmada etkili bir değişken değildir (H0 = fail to reject)\n"
     ]
    }
   ],
   "source": [
    "from scipy.stats import f_oneway\n",
    "s,p =f_oneway(data['loan'][data['bad'] == 0], data['loan'][data['bad'] == 1])\n",
    "print('Statistics =%.3f, p=%.3f' %(stat,p))\n",
    "alpha=0.05\n",
    "if p < 0.05:\n",
    "    print(\"Bu veri türleri ayırmada etkili bir değişkendir (H0 = reject)\")\n",
    "else:\n",
    "    print(\"Bu veri türleri ayırmada etkili bir değişken değildir (H0 = fail to reject)\")"
   ]
  },
  {
   "cell_type": "code",
   "execution_count": 61,
   "metadata": {},
   "outputs": [
    {
     "name": "stdout",
     "output_type": "stream",
     "text": [
      "2.3073764505136856 0.12891801775903636\n",
      "Orneklem Sabit varyansa(constant variance) sahiptir, ((Fail to reject H0))\n"
     ]
    }
   ],
   "source": [
    "from scipy.stats import levene\n",
    "stat,p = levene(data['mortdue'][data['bad'] == 0], data['mortdue'][data['bad'] == 1]) \n",
    "print(stat,p)#equal variance test\n",
    "alpha=0.05\n",
    "if p >alpha:\n",
    "    print('Orneklem Sabit varyansa(constant variance) sahiptir, ((Fail to reject H0))')  \n",
    "else:\n",
    "    print('Orneklem Sabit varyansa(constant variance) sahip değildir, ((Reject H0))')"
   ]
  },
  {
   "cell_type": "code",
   "execution_count": 62,
   "metadata": {},
   "outputs": [
    {
     "name": "stdout",
     "output_type": "stream",
     "text": [
      "Statistics =2.307, p=0.260\n",
      "Bu veri türleri ayırmada etkili bir değişken değildir (H0 = fail to reject)\n"
     ]
    }
   ],
   "source": [
    "from scipy.stats import f_oneway\n",
    "s,p =f_oneway(data['mortdue'][data['bad'] == 0], data['mortdue'][data['bad'] == 1])\n",
    "print('Statistics =%.3f, p=%.3f' %(stat,p))\n",
    "alpha=0.05\n",
    "if p < 0.05:\n",
    "    print(\"Bu veri türleri ayırmada etkili bir değişkendir (H0 = reject)\")\n",
    "else:\n",
    "    print(\"Bu veri türleri ayırmada etkili bir değişken değildir (H0 = fail to reject)\")"
   ]
  },
  {
   "cell_type": "code",
   "execution_count": 63,
   "metadata": {},
   "outputs": [
    {
     "name": "stdout",
     "output_type": "stream",
     "text": [
      "3.9912413972700382 0.0458714974437462\n",
      "Orneklem Sabit varyansa(constant variance) sahip değildir, ((Reject H0))\n"
     ]
    }
   ],
   "source": [
    "from scipy.stats import levene\n",
    "stat,p = levene(data['value'][data['bad'] == 0], data['value'][data['bad'] == 1]) \n",
    "print(stat,p)#equal variance test\n",
    "alpha=0.05\n",
    "if p >alpha:\n",
    "    print('Orneklem Sabit varyansa(constant variance) sahiptir, ((Fail to reject H0))')  \n",
    "else:\n",
    "    print('Orneklem Sabit varyansa(constant variance) sahip değildir, ((Reject H0))')"
   ]
  },
  {
   "cell_type": "code",
   "execution_count": 64,
   "metadata": {},
   "outputs": [
    {
     "name": "stdout",
     "output_type": "stream",
     "text": [
      "Statistics =3.991, p=0.160\n",
      "Bu veri türleri ayırmada etkili bir değişken değildir (H0 = fail to reject)\n"
     ]
    }
   ],
   "source": [
    "from scipy.stats import f_oneway\n",
    "s,p =f_oneway(data['value'][data['bad'] == 0], data['value'][data['bad'] == 1])\n",
    "print('Statistics =%.3f, p=%.3f' %(stat,p))\n",
    "alpha=0.05\n",
    "if p < 0.05:\n",
    "    print(\"Bu veri türleri ayırmada etkili bir değişkendir (H0 = reject)\")\n",
    "else:\n",
    "    print(\"Bu veri türleri ayırmada etkili bir değişken değildir (H0 = fail to reject)\")"
   ]
  },
  {
   "cell_type": "code",
   "execution_count": 65,
   "metadata": {},
   "outputs": [
    {
     "name": "stdout",
     "output_type": "stream",
     "text": [
      "4.210113592213248 0.040312559874429624\n",
      "Orneklem Sabit varyansa(constant variance) sahip değildir, ((Reject H0))\n"
     ]
    }
   ],
   "source": [
    "from scipy.stats import levene\n",
    "stat,p = levene(data['yoj'][data['bad'] == 0], data['yoj'][data['bad'] == 1]) \n",
    "print(stat,p)#equal variance test\n",
    "alpha=0.05\n",
    "if p >alpha:\n",
    "    print('Orneklem Sabit varyansa(constant variance) sahiptir, ((Fail to reject H0))')  \n",
    "else:\n",
    "    print('Orneklem Sabit varyansa(constant variance) sahip değildir, ((Reject H0))')"
   ]
  },
  {
   "cell_type": "code",
   "execution_count": 66,
   "metadata": {},
   "outputs": [
    {
     "name": "stdout",
     "output_type": "stream",
     "text": [
      "Statistics =4.210, p=0.022\n",
      "Bu veri türleri ayırmada etkili bir değişkendir (H0 = reject)\n"
     ]
    }
   ],
   "source": [
    "#burada yoj değişkeninin bad üzerinde etkili bir değişken olduğunu bulduk.\n",
    "from scipy.stats import f_oneway\n",
    "s,p =f_oneway(data['yoj'][data['bad'] == 0], data['yoj'][data['bad'] == 1])\n",
    "print('Statistics =%.3f, p=%.3f' %(stat,p))\n",
    "alpha=0.05\n",
    "if p < 0.05:\n",
    "    print(\"Bu veri türleri ayırmada etkili bir değişkendir (H0 = reject)\")\n",
    "else:\n",
    "    print(\"Bu veri türleri ayırmada etkili bir değişken değildir (H0 = fail to reject)\")\n"
   ]
  },
  {
   "cell_type": "code",
   "execution_count": 67,
   "metadata": {},
   "outputs": [
    {
     "name": "stdout",
     "output_type": "stream",
     "text": [
      "118.58625318726504 7.1109894880631e-27\n",
      "Orneklem Sabit varyansa(constant variance) sahip değildir, ((Reject H0))\n"
     ]
    }
   ],
   "source": [
    "from scipy.stats import levene\n",
    "stat,p = levene(data['derog'][data['bad'] == 0], data['derog'][data['bad'] == 1]) \n",
    "print(stat,p)#equal variance test\n",
    "alpha=0.05\n",
    "if p >alpha:\n",
    "    print('Orneklem Sabit varyansa(constant variance) sahiptir, ((Fail to reject H0))')  \n",
    "else:\n",
    "    print('Orneklem Sabit varyansa(constant variance) sahip değildir, ((Reject H0))')"
   ]
  },
  {
   "cell_type": "code",
   "execution_count": 68,
   "metadata": {},
   "outputs": [
    {
     "name": "stdout",
     "output_type": "stream",
     "text": [
      "Statistics =118.586, p=0.000\n",
      "Bu veri türleri ayırmada etkili bir değişkendir (H0 = reject)\n"
     ]
    }
   ],
   "source": [
    "#burada derog değişkeninin bad üzerinde etkili bir değişken olduğunu bulduk.\n",
    "from scipy.stats import f_oneway\n",
    "s,p =f_oneway(data['derog'][data['bad'] == 0], data['derog'][data['bad'] == 1])\n",
    "print('Statistics =%.3f, p=%.3f' %(stat,p))\n",
    "alpha=0.05\n",
    "if p < 0.05:\n",
    "    print(\"Bu veri türleri ayırmada etkili bir değişkendir (H0 = reject)\")\n",
    "else:\n",
    "    print(\"Bu veri türleri ayırmada etkili bir değişken değildir (H0 = fail to reject)\")\n"
   ]
  },
  {
   "cell_type": "code",
   "execution_count": 69,
   "metadata": {},
   "outputs": [
    {
     "name": "stdout",
     "output_type": "stream",
     "text": [
      "172.843538986418 6.144156048310947e-38\n",
      "Orneklem Sabit varyansa(constant variance) sahip değildir, ((Reject H0))\n"
     ]
    }
   ],
   "source": [
    "from scipy.stats import levene\n",
    "stat,p = levene(data['delinq'][data['bad'] == 0], data['delinq'][data['bad'] == 1]) \n",
    "print(stat,p)#equal variance test\n",
    "alpha=0.05\n",
    "if p >alpha:\n",
    "    print('Orneklem Sabit varyansa(constant variance) sahiptir, ((Fail to reject H0))')  \n",
    "else:\n",
    "    print('Orneklem Sabit varyansa(constant variance) sahip değildir, ((Reject H0))')"
   ]
  },
  {
   "cell_type": "code",
   "execution_count": 71,
   "metadata": {},
   "outputs": [
    {
     "name": "stdout",
     "output_type": "stream",
     "text": [
      "Statistics =172.844, p=0.000\n",
      "Bu veri türleri ayırmada etkili bir değişkendir (H0 = reject)\n"
     ]
    }
   ],
   "source": [
    "#burada delinq değişkeninin bad üzerinde etkili bir değişken olduğunu bulduk.\n",
    "from scipy.stats import f_oneway\n",
    "s,p =f_oneway(data['delinq'][data['bad'] == 0], data['delinq'][data['bad'] == 1])\n",
    "print('Statistics =%.3f, p=%.3f' %(stat,p))\n",
    "alpha=0.05\n",
    "if p < 0.05:\n",
    "    print(\"Bu veri türleri ayırmada etkili bir değişkendir (H0 = reject)\")\n",
    "else:\n",
    "    print(\"Bu veri türleri ayırmada etkili bir değişken değildir (H0 = fail to reject)\")\n"
   ]
  },
  {
   "cell_type": "code",
   "execution_count": 72,
   "metadata": {},
   "outputs": [
    {
     "name": "stdout",
     "output_type": "stream",
     "text": [
      "0.008476501803127428 0.9266532240501075\n",
      "Orneklem Sabit varyansa(constant variance) sahiptir, ((Fail to reject H0))\n"
     ]
    }
   ],
   "source": [
    "from scipy.stats import levene\n",
    "stat,p = levene(data['clage'][data['bad'] == 0], data['clage'][data['bad'] == 1]) \n",
    "print(stat,p)#equal variance test\n",
    "alpha=0.05\n",
    "if p >alpha:\n",
    "    print('Orneklem Sabit varyansa(constant variance) sahiptir, ((Fail to reject H0))')  \n",
    "else:\n",
    "    print('Orneklem Sabit varyansa(constant variance) sahip değildir, ((Reject H0))')"
   ]
  },
  {
   "cell_type": "code",
   "execution_count": 74,
   "metadata": {},
   "outputs": [
    {
     "name": "stdout",
     "output_type": "stream",
     "text": [
      "Statistics =0.008, p=0.000\n",
      "Bu veri türleri ayırmada etkili bir değişkendir (H0 = reject)\n"
     ]
    }
   ],
   "source": [
    "#burada clage değişkeninin bad üzerinde etkili bir değişken olduğunu bulduk.\n",
    "from scipy.stats import f_oneway\n",
    "s,p =f_oneway(data['clage'][data['bad'] == 0], data['clage'][data['bad'] == 1])\n",
    "print('Statistics =%.3f, p=%.3f' %(stat,p))\n",
    "alpha=0.05\n",
    "if p < 0.05:\n",
    "    print(\"Bu veri türleri ayırmada etkili bir değişkendir (H0 = reject)\")\n",
    "else:\n",
    "    print(\"Bu veri türleri ayırmada etkili bir değişken değildir (H0 = fail to reject)\")\n"
   ]
  },
  {
   "cell_type": "code",
   "execution_count": 75,
   "metadata": {},
   "outputs": [
    {
     "name": "stdout",
     "output_type": "stream",
     "text": [
      "19.275276700348513 1.1901804304738905e-05\n",
      "Orneklem Sabit varyansa(constant variance) sahip değildir, ((Reject H0))\n"
     ]
    }
   ],
   "source": [
    "from scipy.stats import levene\n",
    "stat,p = levene(data['ninq'][data['bad'] == 0], data['ninq'][data['bad'] == 1]) \n",
    "print(stat,p)#equal variance test\n",
    "alpha=0.05\n",
    "if p >alpha:\n",
    "    print('Orneklem Sabit varyansa(constant variance) sahiptir, ((Fail to reject H0))')  \n",
    "else:\n",
    "    print('Orneklem Sabit varyansa(constant variance) sahip değildir, ((Reject H0))')"
   ]
  },
  {
   "cell_type": "code",
   "execution_count": 76,
   "metadata": {},
   "outputs": [
    {
     "name": "stdout",
     "output_type": "stream",
     "text": [
      "Statistics =19.275, p=0.000\n",
      "Bu veri türleri ayırmada etkili bir değişkendir (H0 = reject)\n"
     ]
    }
   ],
   "source": [
    "#burada clage değişkeninin bad üzerinde etkili bir değişken olduğunu bulduk.\n",
    "from scipy.stats import f_oneway\n",
    "s,p =f_oneway(data['ninq'][data['bad'] == 0], data['ninq'][data['bad'] == 1])\n",
    "print('Statistics =%.3f, p=%.3f' %(stat,p))\n",
    "alpha=0.05\n",
    "if p < 0.05:\n",
    "    print(\"Bu veri türleri ayırmada etkili bir değişkendir (H0 = reject)\")\n",
    "else:\n",
    "    print(\"Bu veri türleri ayırmada etkili bir değişken değildir (H0 = fail to reject)\")\n"
   ]
  },
  {
   "cell_type": "code",
   "execution_count": 77,
   "metadata": {},
   "outputs": [
    {
     "name": "stdout",
     "output_type": "stream",
     "text": [
      "9.247496740359477 0.002388546558601237\n",
      "Orneklem Sabit varyansa(constant variance) sahip değildir, ((Reject H0))\n"
     ]
    }
   ],
   "source": [
    "from scipy.stats import levene\n",
    "stat,p = levene(data['clno'][data['bad'] == 0], data['clno'][data['bad'] == 1]) \n",
    "print(stat,p)#equal variance test\n",
    "alpha=0.05\n",
    "if p >alpha:\n",
    "    print('Orneklem Sabit varyansa(constant variance) sahiptir, ((Fail to reject H0))')  \n",
    "else:\n",
    "    print('Orneklem Sabit varyansa(constant variance) sahip değildir, ((Reject H0))')"
   ]
  },
  {
   "cell_type": "code",
   "execution_count": 80,
   "metadata": {},
   "outputs": [
    {
     "name": "stdout",
     "output_type": "stream",
     "text": [
      "Statistics =115.704, p=0.572\n",
      "Bu veri türleri ayırmada etkili bir değişken değildir (H0 = fail to reject)\n"
     ]
    }
   ],
   "source": [
    "from scipy.stats import f_oneway\n",
    "s,p =f_oneway(data['clno'][data['bad'] == 0], data['clno'][data['bad'] == 1])\n",
    "print('Statistics =%.3f, p=%.3f' %(stat,p))\n",
    "alpha=0.05\n",
    "if p < 0.05:\n",
    "    print(\"Bu veri türleri ayırmada etkili bir değişkendir (H0 = reject)\")\n",
    "else:\n",
    "    print(\"Bu veri türleri ayırmada etkili bir değişken değildir (H0 = fail to reject)\")\n"
   ]
  },
  {
   "cell_type": "code",
   "execution_count": 79,
   "metadata": {},
   "outputs": [
    {
     "name": "stdout",
     "output_type": "stream",
     "text": [
      "115.70361829348167 2.8084956639802037e-26\n",
      "Orneklem Sabit varyansa(constant variance) sahip değildir, ((Reject H0))\n"
     ]
    }
   ],
   "source": [
    "from scipy.stats import levene\n",
    "stat,p = levene(data['debtinc'][data['bad'] == 0], data['debtinc'][data['bad'] == 1]) \n",
    "print(stat,p)#equal variance test\n",
    "alpha=0.05\n",
    "if p >alpha:\n",
    "    print('Orneklem Sabit varyansa(constant variance) sahiptir, ((Fail to reject H0))')  \n",
    "else:\n",
    "    print('Orneklem Sabit varyansa(constant variance) sahip değildir, ((Reject H0))')"
   ]
  },
  {
   "cell_type": "code",
   "execution_count": 82,
   "metadata": {},
   "outputs": [
    {
     "name": "stdout",
     "output_type": "stream",
     "text": [
      "Statistics =115.704, p=0.000\n",
      "Bu veri türleri ayırmada etkili bir değişkendir (H0 = reject)\n"
     ]
    }
   ],
   "source": [
    "#burada debtinc değişkeninin bad üzerinde etkili bir değişken olduğunu bulduk.\n",
    "from scipy.stats import f_oneway\n",
    "s,p =f_oneway(data['debtinc'][data['bad'] == 0], data['debtinc'][data['bad'] == 1])\n",
    "print('Statistics =%.3f, p=%.3f' %(stat,p))\n",
    "alpha=0.05\n",
    "if p < 0.05:\n",
    "    print(\"Bu veri türleri ayırmada etkili bir değişkendir (H0 = reject)\")\n",
    "else:\n",
    "    print(\"Bu veri türleri ayırmada etkili bir değişken değildir (H0 = fail to reject)\")\n"
   ]
  },
  {
   "cell_type": "code",
   "execution_count": null,
   "metadata": {},
   "outputs": [],
   "source": []
  }
 ],
 "metadata": {
  "kernelspec": {
   "display_name": "Python 3",
   "language": "python",
   "name": "python3"
  },
  "language_info": {
   "codemirror_mode": {
    "name": "ipython",
    "version": 3
   },
   "file_extension": ".py",
   "mimetype": "text/x-python",
   "name": "python",
   "nbconvert_exporter": "python",
   "pygments_lexer": "ipython3",
   "version": "3.7.1"
  }
 },
 "nbformat": 4,
 "nbformat_minor": 2
}
